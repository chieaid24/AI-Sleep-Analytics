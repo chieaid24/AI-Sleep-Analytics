{
 "cells": [
  {
   "cell_type": "code",
   "execution_count": 10,
   "id": "7d3752c0-c71d-4fc1-b552-a7dece8ab4d5",
   "metadata": {
    "execution": {
     "iopub.execute_input": "2025-10-16T19:04:00.866733Z",
     "iopub.status.busy": "2025-10-16T19:04:00.866454Z",
     "iopub.status.idle": "2025-10-16T19:04:00.884221Z",
     "shell.execute_reply": "2025-10-16T19:04:00.883613Z",
     "shell.execute_reply.started": "2025-10-16T19:04:00.866712Z"
    }
   },
   "outputs": [],
   "source": [
    "import boto3\n",
    "import joblib\n",
    "import pandas as pd\n",
    "from prophet import Prophet\n",
    "\n",
    "s3 = boto3.client('s3')\n",
    "\n",
    "bucket_name = 'sleep-quality-forecast-bucket'\n",
    "object_keys = [\n",
    "                'models/prophet_AHI.pkl',\n",
    "                'models/prophet_LEAK_95_PERCENTILE.pkl', \n",
    "                'models/prophet_MASK_SESSION_COUNT.pkl', \n",
    "                'models/prophet_SLEEP_SCORE.pkl', \n",
    "                'models/prophet_USAGE_HOURS.pkl'\n",
    "              ]"
   ]
  },
  {
   "cell_type": "code",
   "execution_count": 15,
   "id": "cbdd251d-7745-4fa4-b3d8-c1b2e832a00b",
   "metadata": {
    "execution": {
     "iopub.execute_input": "2025-10-16T19:08:40.334541Z",
     "iopub.status.busy": "2025-10-16T19:08:40.334245Z",
     "iopub.status.idle": "2025-10-16T19:08:41.497219Z",
     "shell.execute_reply": "2025-10-16T19:08:41.496497Z",
     "shell.execute_reply.started": "2025-10-16T19:08:40.334517Z"
    }
   },
   "outputs": [
    {
     "name": "stdout",
     "output_type": "stream",
     "text": [
      "\n",
      "7 Day forecast for AHI:\n",
      "            ds      yhat  yhat_lower  yhat_upper\n",
      "852 2025-10-03  0.328244   -0.005713    0.695554\n",
      "853 2025-10-04  0.369640    0.032557    0.724001\n",
      "854 2025-10-05  0.359469    0.011204    0.701981\n",
      "855 2025-10-06  0.369794    0.051672    0.704040\n",
      "856 2025-10-07  0.371598    0.019797    0.707166\n",
      "857 2025-10-08  0.338091   -0.001218    0.670484\n",
      "858 2025-10-09  0.330492   -0.029819    0.643692\n",
      "--------------------------------------------------\n",
      "\n",
      "7 Day forecast for LEAK_95_PERCENTILE:\n",
      "            ds      yhat  yhat_lower  yhat_upper\n",
      "852 2025-10-03  5.263238   -0.038565   10.123402\n",
      "853 2025-10-04  5.095033    0.232825   10.006537\n",
      "854 2025-10-05  5.645448    0.831033   10.532345\n",
      "855 2025-10-06  5.210778    0.140730    9.851218\n",
      "856 2025-10-07  5.043177    0.231768   10.239111\n",
      "857 2025-10-08  5.140124    0.061516    9.635305\n",
      "858 2025-10-09  4.893194   -0.093396    9.795171\n",
      "--------------------------------------------------\n",
      "\n",
      "7 Day forecast for MASK_SESSION_COUNT:\n",
      "            ds      yhat  yhat_lower  yhat_upper\n",
      "852 2025-10-03  1.450050    0.248398    2.619423\n",
      "853 2025-10-04  1.732486    0.536096    2.893462\n",
      "854 2025-10-05  1.243267    0.110241    2.460717\n",
      "855 2025-10-06  1.197358    0.080848    2.408236\n",
      "856 2025-10-07  1.356985    0.205686    2.588914\n",
      "857 2025-10-08  1.298675    0.084636    2.502439\n",
      "858 2025-10-09  1.179938   -0.030084    2.253418\n",
      "--------------------------------------------------\n",
      "\n",
      "7 Day forecast for SLEEP_SCORE:\n",
      "            ds        yhat  yhat_lower  yhat_upper\n",
      "852 2025-10-03   98.284455   91.320852  105.391246\n",
      "853 2025-10-04   99.417280   92.386514  107.079756\n",
      "854 2025-10-05   99.114416   91.693933  106.091658\n",
      "855 2025-10-06   99.500692   92.414368  106.932491\n",
      "856 2025-10-07   99.563297   92.816682  106.583354\n",
      "857 2025-10-08  100.006660   93.003382  106.735386\n",
      "858 2025-10-09   99.656391   92.461208  106.564343\n",
      "--------------------------------------------------\n",
      "\n",
      "7 Day forecast for USAGE_HOURS:\n",
      "            ds       yhat  yhat_lower  yhat_upper\n",
      "852 2025-10-03   9.664742    7.196522   12.137171\n",
      "853 2025-10-04  10.215980    7.894613   12.406825\n",
      "854 2025-10-05   8.841286    6.311232   11.147361\n",
      "855 2025-10-06   9.067747    6.766874   11.510618\n",
      "856 2025-10-07   9.542076    7.106698   11.981532\n",
      "857 2025-10-08   9.234085    6.920548   11.666196\n",
      "858 2025-10-09   9.038558    6.705549   11.286693\n",
      "--------------------------------------------------\n"
     ]
    }
   ],
   "source": [
    "results = {}\n",
    "\n",
    "# Loop through each saved model in S3\n",
    "for key in object_keys:\n",
    "    # extract metric name\n",
    "    metric_name = key.split('/')[-1].replace('prophet_', '').replace('.pkl', '')\n",
    "\n",
    "    # download model locally\n",
    "    local_path = f\"/tmp/{metric_name}.pkl\"\n",
    "    s3.download_file(bucket_name, key, local_path)\n",
    "\n",
    "    # load model\n",
    "    model = joblib.load(local_path)\n",
    "\n",
    "    # create dates 1 week in future\n",
    "    future = model.make_future_dataframe(periods=7)\n",
    "    forecast = model.predict(future)\n",
    "\n",
    "    # get the last week\n",
    "    next_week = forecast.tail(7)[['ds', 'yhat', 'yhat_lower', 'yhat_upper']]\n",
    "\n",
    "    # save results\n",
    "    results[metric_name] = next_week\n",
    "\n",
    "    # print\n",
    "    print(f\"\\n7 Day forecast for {metric_name}:\")\n",
    "    print(next_week)\n",
    "    print(\"-\" * 50)"
   ]
  },
  {
   "cell_type": "code",
   "execution_count": 17,
   "id": "3ccf8b2d-817a-4d7d-9be0-0d0ae5f60967",
   "metadata": {
    "execution": {
     "iopub.execute_input": "2025-10-16T19:25:35.920803Z",
     "iopub.status.busy": "2025-10-16T19:25:35.920522Z",
     "iopub.status.idle": "2025-10-16T19:25:36.216485Z",
     "shell.execute_reply": "2025-10-16T19:25:36.215397Z",
     "shell.execute_reply.started": "2025-10-16T19:25:35.920764Z"
    }
   },
   "outputs": [
    {
     "name": "stdout",
     "output_type": "stream",
     "text": [
      "Uploaded AHI_forecast.csv to s3://sleep-quality-forecast-bucket/forecasts/\n",
      "Uploaded LEAK_95_PERCENTILE_forecast.csv to s3://sleep-quality-forecast-bucket/forecasts/\n",
      "Uploaded MASK_SESSION_COUNT_forecast.csv to s3://sleep-quality-forecast-bucket/forecasts/\n",
      "Uploaded SLEEP_SCORE_forecast.csv to s3://sleep-quality-forecast-bucket/forecasts/\n",
      "Uploaded USAGE_HOURS_forecast.csv to s3://sleep-quality-forecast-bucket/forecasts/\n"
     ]
    }
   ],
   "source": [
    "# Save each forecast to S3 as CSV\n",
    "for metric_name, df_forecast in results.items():\n",
    "    csv_path = f\"/tmp/{metric_name}_forecast.csv\"\n",
    "    df_forecast.to_csv(csv_path, index=False)\n",
    "    s3.upload_file(csv_path, bucket_name, f\"forecasts/{metric_name}_forecast.csv\")\n",
    "    print(f\"Uploaded {metric_name}_forecast.csv to s3://{bucket_name}/forecasts/\")"
   ]
  },
  {
   "cell_type": "code",
   "execution_count": null,
   "id": "ff922647-0714-4e70-94a8-c671d05999b9",
   "metadata": {},
   "outputs": [],
   "source": []
  }
 ],
 "metadata": {
  "kernelspec": {
   "display_name": "Python 3 (ipykernel)",
   "language": "python",
   "name": "python3"
  },
  "language_info": {
   "codemirror_mode": {
    "name": "ipython",
    "version": 3
   },
   "file_extension": ".py",
   "mimetype": "text/x-python",
   "name": "python",
   "nbconvert_exporter": "python",
   "pygments_lexer": "ipython3",
   "version": "3.12.9"
  }
 },
 "nbformat": 4,
 "nbformat_minor": 5
}
