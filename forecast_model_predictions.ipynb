{
 "cells": [
  {
   "cell_type": "code",
   "execution_count": 21,
   "id": "7d3752c0-c71d-4fc1-b552-a7dece8ab4d5",
   "metadata": {
    "execution": {
     "iopub.execute_input": "2025-10-16T20:03:41.178929Z",
     "iopub.status.busy": "2025-10-16T20:03:41.178602Z",
     "iopub.status.idle": "2025-10-16T20:03:41.191286Z",
     "shell.execute_reply": "2025-10-16T20:03:41.190488Z",
     "shell.execute_reply.started": "2025-10-16T20:03:41.178905Z"
    }
   },
   "outputs": [],
   "source": [
    "import boto3\n",
    "import joblib\n",
    "import pandas as pd\n",
    "from prophet import Prophet\n",
    "\n",
    "s3 = boto3.client('s3')\n",
    "\n",
    "bucket_name = 'sleep-quality-forecast-bucket'\n",
    "object_keys = [\n",
    "                'models/prophet_AHI.pkl',\n",
    "                'models/prophet_LEAK_95_PERCENTILE.pkl', \n",
    "                'models/prophet_MASK_SESSION_COUNT.pkl', \n",
    "                'models/prophet_SLEEP_SCORE.pkl', \n",
    "                'models/prophet_USAGE_HOURS.pkl'\n",
    "              ]"
   ]
  },
  {
   "cell_type": "code",
   "execution_count": 22,
   "id": "cbdd251d-7745-4fa4-b3d8-c1b2e832a00b",
   "metadata": {
    "execution": {
     "iopub.execute_input": "2025-10-16T20:03:41.659055Z",
     "iopub.status.busy": "2025-10-16T20:03:41.658751Z",
     "iopub.status.idle": "2025-10-16T20:03:43.070157Z",
     "shell.execute_reply": "2025-10-16T20:03:43.069006Z",
     "shell.execute_reply.started": "2025-10-16T20:03:41.659033Z"
    }
   },
   "outputs": [
    {
     "name": "stdout",
     "output_type": "stream",
     "text": [
      "\n",
      "7 Day forecast for AHI:\n",
      "          Date  Lower Estimate  Predicted Value  Upper Estimate\n",
      "852 2025-10-03       -0.041479         0.328244        0.677908\n",
      "853 2025-10-04       -0.000146         0.369640        0.684636\n",
      "854 2025-10-05        0.017737         0.359469        0.692633\n",
      "855 2025-10-06        0.009304         0.369794        0.724602\n",
      "856 2025-10-07        0.022173         0.371598        0.694419\n",
      "857 2025-10-08        0.013950         0.338091        0.677960\n",
      "858 2025-10-09       -0.023840         0.330492        0.660025\n",
      "--------------------------------------------------\n",
      "\n",
      "7 Day forecast for LEAK_95_PERCENTILE:\n",
      "          Date  Lower Estimate  Predicted Value  Upper Estimate\n",
      "852 2025-10-03        0.525343         5.263238       10.541774\n",
      "853 2025-10-04       -0.180952         5.095033       10.160593\n",
      "854 2025-10-05        1.010683         5.645448       10.640857\n",
      "855 2025-10-06        0.354532         5.210778       10.236330\n",
      "856 2025-10-07        0.171693         5.043177       10.223664\n",
      "857 2025-10-08        0.252917         5.140124       10.273038\n",
      "858 2025-10-09       -0.156750         4.893194        9.847417\n",
      "--------------------------------------------------\n",
      "\n",
      "7 Day forecast for MASK_SESSION_COUNT:\n",
      "          Date  Lower Estimate  Predicted Value  Upper Estimate\n",
      "852 2025-10-03        0.252036         1.450050        2.665878\n",
      "853 2025-10-04        0.540743         1.732486        2.907528\n",
      "854 2025-10-05        0.079350         1.243267        2.409685\n",
      "855 2025-10-06       -0.044531         1.197358        2.410695\n",
      "856 2025-10-07        0.150398         1.356985        2.499635\n",
      "857 2025-10-08        0.068786         1.298675        2.425178\n",
      "858 2025-10-09       -0.042950         1.179938        2.355302\n",
      "--------------------------------------------------\n",
      "\n",
      "7 Day forecast for SLEEP_SCORE:\n",
      "          Date  Lower Estimate  Predicted Value  Upper Estimate\n",
      "852 2025-10-03       91.703320        98.284455      106.164078\n",
      "853 2025-10-04       92.821086        99.417280      106.729902\n",
      "854 2025-10-05       92.231234        99.114416      106.405231\n",
      "855 2025-10-06       92.226757        99.500692      106.406953\n",
      "856 2025-10-07       92.904136        99.563297      106.562866\n",
      "857 2025-10-08       92.706139       100.006660      107.187248\n",
      "858 2025-10-09       93.038845        99.656391      106.731031\n",
      "--------------------------------------------------\n",
      "\n",
      "7 Day forecast for USAGE_HOURS:\n",
      "          Date  Lower Estimate  Predicted Value  Upper Estimate\n",
      "852 2025-10-03        7.413433         9.664742       12.073189\n",
      "853 2025-10-04        7.935403        10.215980       12.671106\n",
      "854 2025-10-05        6.480958         8.841286       11.276631\n",
      "855 2025-10-06        6.572388         9.067747       11.314784\n",
      "856 2025-10-07        7.143994         9.542076       11.961261\n",
      "857 2025-10-08        6.868529         9.234085       11.637200\n",
      "858 2025-10-09        6.654567         9.038558       11.467991\n",
      "--------------------------------------------------\n"
     ]
    }
   ],
   "source": [
    "results = {}\n",
    "\n",
    "# Loop through each saved model in S3\n",
    "for key in object_keys:\n",
    "    # extract metric name\n",
    "    metric_name = key.split('/')[-1].replace('prophet_', '').replace('.pkl', '')\n",
    "\n",
    "    # download model locally\n",
    "    local_path = f\"/tmp/{metric_name}.pkl\"\n",
    "    s3.download_file(bucket_name, key, local_path)\n",
    "\n",
    "    # load model\n",
    "    model = joblib.load(local_path)\n",
    "\n",
    "    # create dates 1 week in future\n",
    "    future = model.make_future_dataframe(periods=7)\n",
    "    forecast = model.predict(future)\n",
    "\n",
    "    # get the last week\n",
    "    next_week = forecast.tail(7)[['ds', 'yhat_lower', 'yhat', 'yhat_upper']]\n",
    "\n",
    "    next_week = next_week.rename(columns={\n",
    "        'ds': 'Date',\n",
    "        'yhat_lower': 'Lower Estimate',\n",
    "        'yhat': 'Predicted Value',\n",
    "        'yhat_upper': 'Upper Estimate'\n",
    "    })\n",
    "    \n",
    "    # save results\n",
    "    results[metric_name] = next_week\n",
    "\n",
    "    # print\n",
    "    print(f\"\\n7 Day forecast for {metric_name}:\")\n",
    "    print(next_week)\n",
    "    print(\"-\" * 50)"
   ]
  },
  {
   "cell_type": "code",
   "execution_count": 23,
   "id": "3ccf8b2d-817a-4d7d-9be0-0d0ae5f60967",
   "metadata": {
    "execution": {
     "iopub.execute_input": "2025-10-16T20:03:49.446137Z",
     "iopub.status.busy": "2025-10-16T20:03:49.445871Z",
     "iopub.status.idle": "2025-10-16T20:03:49.684801Z",
     "shell.execute_reply": "2025-10-16T20:03:49.684101Z",
     "shell.execute_reply.started": "2025-10-16T20:03:49.446116Z"
    }
   },
   "outputs": [
    {
     "name": "stdout",
     "output_type": "stream",
     "text": [
      "Uploaded AHI_forecast.csv to s3://sleep-quality-forecast-bucket/forecasts/\n",
      "Uploaded LEAK_95_PERCENTILE_forecast.csv to s3://sleep-quality-forecast-bucket/forecasts/\n",
      "Uploaded MASK_SESSION_COUNT_forecast.csv to s3://sleep-quality-forecast-bucket/forecasts/\n",
      "Uploaded SLEEP_SCORE_forecast.csv to s3://sleep-quality-forecast-bucket/forecasts/\n",
      "Uploaded USAGE_HOURS_forecast.csv to s3://sleep-quality-forecast-bucket/forecasts/\n"
     ]
    }
   ],
   "source": [
    "# Save each forecast to S3 as CSV\n",
    "for metric_name, df_forecast in results.items():\n",
    "    csv_path = f\"/tmp/{metric_name}_forecast.csv\"\n",
    "    df_forecast.to_csv(csv_path, index=False)\n",
    "    s3.upload_file(csv_path, bucket_name, f\"forecasts/{metric_name}_forecast.csv\")\n",
    "    print(f\"Uploaded {metric_name}_forecast.csv to s3://{bucket_name}/forecasts/\")"
   ]
  },
  {
   "cell_type": "code",
   "execution_count": null,
   "id": "ff922647-0714-4e70-94a8-c671d05999b9",
   "metadata": {},
   "outputs": [],
   "source": []
  }
 ],
 "metadata": {
  "kernelspec": {
   "display_name": "Python 3 (ipykernel)",
   "language": "python",
   "name": "python3"
  },
  "language_info": {
   "codemirror_mode": {
    "name": "ipython",
    "version": 3
   },
   "file_extension": ".py",
   "mimetype": "text/x-python",
   "name": "python",
   "nbconvert_exporter": "python",
   "pygments_lexer": "ipython3",
   "version": "3.12.9"
  }
 },
 "nbformat": 4,
 "nbformat_minor": 5
}
